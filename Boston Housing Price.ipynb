{
 "cells": [
  {
   "cell_type": "code",
   "execution_count": 1,
   "metadata": {},
   "outputs": [
    {
     "name": "stdout",
     "output_type": "stream",
     "text": [
      "<class 'numpy.ndarray'>\n",
      "(506, 13)\n",
      "(506,)\n"
     ]
    }
   ],
   "source": [
    "import numpy as np\n",
    "from sklearn.datasets import load_boston\n",
    "boston = load_boston()\n",
    "\n",
    "x_data = boston.data\n",
    "y_data = boston.target\n",
    "print(type(x_data))\n",
    "print(x_data.shape)\n",
    "print(y_data.shape)\n"
   ]
  },
  {
   "cell_type": "code",
   "execution_count": 30,
   "metadata": {},
   "outputs": [
    {
     "name": "stdout",
     "output_type": "stream",
     "text": [
      "[-6.61190572e+47 -2.96295358e+48 -6.59333342e+48 -7.99061580e+48\n",
      " -4.52513995e+46 -3.76247031e+47 -4.12855789e+48 -4.71686787e+49\n",
      " -2.36825344e+48 -7.31035340e+48 -2.91646992e+50 -1.23353592e+49\n",
      " -2.35648248e+50 -8.81562824e+48]\n"
     ]
    }
   ],
   "source": [
    "'''\n",
    "def hypothesis(theta,x):\n",
    "    m = x.shape[0]\n",
    "    sum = theta[0]\n",
    "    for i in range(1,m+1):\n",
    "        sum += theta[i]*x[i-1]\n",
    "    return sum\n",
    "\n",
    "def gradient(X,Y,theta):\n",
    "    m = X.shape[0]\n",
    "    n = X.shape[1]\n",
    "    grad = np.zeros((n+1))\n",
    "    for i in range(m):\n",
    "        grad[0] += (hypothesis(theta,X[i])-Y[i])\n",
    "        for j in range(1,n+1):\n",
    "            grad[j] += (hypothesis(theta,X[i])-Y[i])*X[i][j-1]\n",
    "    return grad\n",
    "def gradient_decent(X,Y,learning_rate = 0.001,max_itr = 10):\n",
    "    n = X.shape[1]\n",
    "    theta = np.zeros((n+1))\n",
    "    for i in range(max_itr):\n",
    "        grad = gradient(X,Y,theta)\n",
    "        for j in range(n+1):\n",
    "            theta[j] = theta[j] - learning_rate*grad[j]\n",
    "    return theta\n",
    "theta = gradient_decent(x_data,y_data)\n",
    "print(theta)\n",
    "'''"
   ]
  },
  {
   "cell_type": "markdown",
   "metadata": {},
   "source": [
    "# Using Sklearn Library\n"
   ]
  },
  {
   "cell_type": "code",
   "execution_count": 42,
   "metadata": {},
   "outputs": [
    {
     "name": "stdout",
     "output_type": "stream",
     "text": [
      "[-9.53028948e-02  4.82340987e-02  4.92786381e-02  1.52134444e+00\n",
      " -1.93926114e+01  3.40735087e+00  1.31093154e-02 -1.38400155e+00\n",
      "  3.14324720e-01 -1.36806984e-02 -1.03900877e+00  9.73932687e-03\n",
      " -5.39957606e-01]\n",
      "40.52509171556808\n"
     ]
    }
   ],
   "source": [
    "from sklearn.linear_model import LinearRegression\n",
    "from sklearn.model_selection import train_test_split\n",
    "reg = LinearRegression(normalize = True)\n",
    "x_train,x_test,y_train,y_test = train_test_split(x_data,y_data,test_size = 0.2)\n",
    "reg.fit(x_train,y_train)\n",
    "print(reg.coef_)\n",
    "print(reg.intercept_)"
   ]
  },
  {
   "cell_type": "markdown",
   "metadata": {},
   "source": [
    "# Accuracy of Regression"
   ]
  },
  {
   "cell_type": "code",
   "execution_count": 56,
   "metadata": {},
   "outputs": [
    {
     "name": "stdout",
     "output_type": "stream",
     "text": [
      "0.7501895104057386\n"
     ]
    }
   ],
   "source": [
    "print(reg.score(x_train,y_train))\n"
   ]
  },
  {
   "cell_type": "code",
   "execution_count": 59,
   "metadata": {},
   "outputs": [
    {
     "name": "stdout",
     "output_type": "stream",
     "text": [
      "[0.64780638 0.74919196 0.49672239 0.81431421 0.68568273 0.84508302\n",
      " 0.67460803 0.55305733 0.73887806 0.82901531]\n",
      "0.7034359413526332\n"
     ]
    }
   ],
   "source": [
    "from sklearn.model_selection import cross_val_score\n",
    "scores = cross_val_score(reg,x_train,y_train,cv = 10,scoring = 'r2')\n",
    "print(scores)\n",
    "print(scores.mean())"
   ]
  },
  {
   "cell_type": "code",
   "execution_count": 83,
   "metadata": {},
   "outputs": [
    {
     "name": "stdout",
     "output_type": "stream",
     "text": [
      "[[0. 0.]\n",
      " [0. 0.]\n",
      " [0. 0.]\n",
      " [0. 0.]]\n",
      "[[1.]\n",
      " [1.]\n",
      " [1.]\n",
      " [1.]]\n",
      "\n",
      "[[1. 0. 0.]\n",
      " [1. 0. 0.]\n",
      " [1. 0. 0.]\n",
      " [1. 0. 0.]]\n"
     ]
    }
   ],
   "source": [
    "l1 = np.zeros((4,2))\n",
    "l2 = np.zeros((4,1))+1\n",
    "print(l1)\n",
    "print(l2)\n",
    "print()\n",
    "l3 = np.concatenate((l2,l1),axis = 1)\n",
    "print(l3)"
   ]
  },
  {
   "cell_type": "code",
   "execution_count": null,
   "metadata": {},
   "outputs": [],
   "source": []
  }
 ],
 "metadata": {
  "kernelspec": {
   "display_name": "Python 3",
   "language": "python",
   "name": "python3"
  },
  "language_info": {
   "codemirror_mode": {
    "name": "ipython",
    "version": 3
   },
   "file_extension": ".py",
   "mimetype": "text/x-python",
   "name": "python",
   "nbconvert_exporter": "python",
   "pygments_lexer": "ipython3",
   "version": "3.6.8"
  }
 },
 "nbformat": 4,
 "nbformat_minor": 2
}
